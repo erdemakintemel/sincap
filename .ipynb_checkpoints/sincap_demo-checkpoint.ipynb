{
 "cells": [
  {
   "cell_type": "markdown",
   "metadata": {},
   "source": [
    "Bu uygulama ev tipi bir kütüphane sistemidir. Bunu kullarak, evinizdeki kütüphane listesine ulaşabilirsiniz."
   ]
  },
  {
   "cell_type": "code",
   "execution_count": 11,
   "metadata": {},
   "outputs": [
    {
     "name": "stdout",
     "output_type": "stream",
     "text": [
      "Baglanti Başarılı!\n"
     ]
    },
    {
     "ename": "NameError",
     "evalue": "name 'oku' is not defined",
     "output_type": "error",
     "traceback": [
      "\u001b[0;31m---------------------------------------------------------------------------\u001b[0m",
      "\u001b[0;31mNameError\u001b[0m                                 Traceback (most recent call last)",
      "\u001b[0;32m<ipython-input-11-dc2567870c1d>\u001b[0m in \u001b[0;36m<module>\u001b[0;34m()\u001b[0m\n\u001b[1;32m     56\u001b[0m     \u001b[0mveritabani_sec\u001b[0m\u001b[0;34m.\u001b[0m\u001b[0mexecute\u001b[0m\u001b[0;34m(\u001b[0m\u001b[0;34m'DELETE  FROM book WHERE name=?;'\u001b[0m\u001b[0;34m,\u001b[0m \u001b[0;34m(\u001b[0m\u001b[0mbookname\u001b[0m\u001b[0;34m,\u001b[0m\u001b[0;34m)\u001b[0m\u001b[0;34m)\u001b[0m\u001b[0;34m\u001b[0m\u001b[0m\n\u001b[1;32m     57\u001b[0m     \u001b[0moku\u001b[0m \u001b[0;34m=\u001b[0m \u001b[0mveritabani_sec\u001b[0m\u001b[0;34m.\u001b[0m\u001b[0mexecute\u001b[0m\u001b[0;34m(\u001b[0m\u001b[0;34m'Select adi,soyadi,ogrenci_no from ogrenciler'\u001b[0m\u001b[0;34m)\u001b[0m\u001b[0;34m\u001b[0m\u001b[0m\n\u001b[0;32m---> 58\u001b[0;31m \u001b[0;32mfor\u001b[0m \u001b[0mverileri_cek\u001b[0m \u001b[0;32min\u001b[0m \u001b[0moku\u001b[0m\u001b[0;34m.\u001b[0m\u001b[0mfetchall\u001b[0m\u001b[0;34m(\u001b[0m\u001b[0;34m)\u001b[0m\u001b[0;34m:\u001b[0m\u001b[0;34m\u001b[0m\u001b[0m\n\u001b[0m\u001b[1;32m     59\u001b[0m     \u001b[0mprint\u001b[0m\u001b[0;34m(\u001b[0m\u001b[0mverileri_cek\u001b[0m\u001b[0;34m[\u001b[0m\u001b[0;34m'name'\u001b[0m\u001b[0;34m]\u001b[0m\u001b[0;34m,\u001b[0m\u001b[0mverileri_cek\u001b[0m\u001b[0;34m[\u001b[0m\u001b[0;34m'w_name'\u001b[0m\u001b[0;34m]\u001b[0m\u001b[0;34m,\u001b[0m\u001b[0mverileri_cek\u001b[0m\u001b[0;34m[\u001b[0m\u001b[0;34m'company'\u001b[0m\u001b[0;34m]\u001b[0m\u001b[0;34m)\u001b[0m\u001b[0;34m\u001b[0m\u001b[0m\n\u001b[1;32m     60\u001b[0m \u001b[0;32mdef\u001b[0m \u001b[0mbook_up\u001b[0m\u001b[0;34m(\u001b[0m\u001b[0;34m)\u001b[0m\u001b[0;34m:\u001b[0m\u001b[0;34m\u001b[0m\u001b[0m\n",
      "\u001b[0;31mNameError\u001b[0m: name 'oku' is not defined"
     ]
    }
   ],
   "source": [
    "import sqlite3\n",
    "baglanti = sqlite3.connect('hi.db')\n",
    "if(baglanti):\n",
    "    print('Baglanti Başarılı!')\n",
    "else:\n",
    "    print('Bağlantı Başarısız!')\n",
    "veritabani_sec = baglanti.cursor()\n",
    "\n",
    "username = None\n",
    "\n",
    "def check(): #username, password):\n",
    "    global username\n",
    "    print(\"Kullanıcı adı:\")\n",
    "    name = input()\n",
    "    cursor = veritabani_sec.execute(\"SELECT COUNT (ad) FROM sincap WHERE ad=?;\".format(name) ,(name,))\n",
    "    if ('username == name'):\n",
    "        print(\"kullanıcı bulundu\")\n",
    "    else:\n",
    "        print(\"Yeniden deneyin\")\n",
    "    print(\"Parola girin:\")\n",
    "    paswd= input()\n",
    "    cursor = veritabani_sec.execute(\"SELECT COUNT (parola) FROM sincap WHERE parola=?;\".format(paswd) ,(paswd,))\n",
    "    if ('paswd == paswd'):\n",
    "        print(\"parola doğru\")\n",
    "    else:\n",
    "        print(\"Yeniden deneyin\")\n",
    "    print(cursor.fetchall())\n",
    "    \n",
    "    \n",
    "def book():\n",
    "    print('Hoşgeldiniz,Kitap adı giriniz:')\n",
    "    bookname =input()\n",
    "    cursor = veritabani_sec.execute(\"SELECT * FROM book WHERE  name=? ;\", (bookname,))\n",
    "    print(cursor.fetchall())\n",
    "def book_add():\n",
    "    print('kitap ekle')\n",
    "    print('Kitap adı:')\n",
    "    bookname =input()\n",
    "    print('Yazar adı:')\n",
    "    w_name =input()\n",
    "    print('Basım yılı:')\n",
    "    year =input()\n",
    "    print('Yayınevi adı:')\n",
    "    company =input()\n",
    "    cursor = veritabani_sec.execute('''INSERT INTO book (name,w_name,b_id,year,company) VALUES (?,?,null,?,?)''', (bookname,w_name,year,company))\n",
    "    print(cursor.fetchall())\n",
    "    baglanti.commit()\n",
    "    print(\"kitap eklendi\")\n",
    "    oku = veritabani_sec.execute('SELECT * FROM book WHERE  name=? ;')   \n",
    "    book()\n",
    "def book_del():\n",
    "    print(\"kitap sil\")\n",
    "    print(\"silinecek kitabın adını yaz:\")\n",
    "    name=input()\n",
    "    veritabani_sec.execute('DELETE  FROM book WHERE name=?;', (bookname,))\n",
    "    oku = veritabani_sec.execute('Select adi,soyadi,ogrenci_no from ogrenciler')\n",
    "for verileri_cek in oku.fetchall():\n",
    "    print(verileri_cek['name'],verileri_cek['w_name'],verileri_cek['company'])\n",
    "def book_up():\n",
    "    print('kitap listesini gör')\n",
    "    book()\n",
    "    print('güncelle')\n",
    "    print('Kitap adı:')\n",
    "    bookname =input()\n",
    "    print('Yazar adı:')\n",
    "    w_name =input()\n",
    "    print('Basım yılı:')\n",
    "    year =input()\n",
    "    print('Yayınevi adı:')\n",
    "    company =input()\n",
    "    cursor = veritabani_sec.execute('''UPDATE * FROM book (name,w_name,b_id) VALUES (?,?,null,?,?)''', (bookname,w_name,year,company))\n",
    "    print(\"değişiklikleri gör\")\n",
    "    oku = veritabani_sec.execute(\"SELECT * FROM book WHERE  name=? ;\")   \n",
    "    #for a in oku.fetchall():\n",
    "     #   print('Adı Soyad : %s %s - Okul NO : %s'%a)\n",
    "    baglanti.commit()\n",
    "    baglanti.close()\n",
    "    check()\n",
    "    book()\n",
    "    book_up()\n",
    "    book_add()"
   ]
  },
  {
   "cell_type": "code",
   "execution_count": 4,
   "metadata": {
    "scrolled": true
   },
   "outputs": [
    {
     "name": "stdout",
     "output_type": "stream",
     "text": [
      "Kullanıcı adı:\n",
      "EGE\n",
      "kullanıcı bulundu\n",
      "Parola girin:\n",
      "1234\n",
      "parola doğru\n",
      "[(1,)]\n"
     ]
    }
   ],
   "source": [
    "check()"
   ]
  },
  {
   "cell_type": "code",
   "execution_count": 12,
   "metadata": {
    "scrolled": true
   },
   "outputs": [
    {
     "name": "stdout",
     "output_type": "stream",
     "text": [
      "kitap sil\n",
      "silinecek kitabın adını yaz:\n",
      "A\n"
     ]
    },
    {
     "ename": "NameError",
     "evalue": "name 'bookname' is not defined",
     "output_type": "error",
     "traceback": [
      "\u001b[0;31m---------------------------------------------------------------------------\u001b[0m",
      "\u001b[0;31mNameError\u001b[0m                                 Traceback (most recent call last)",
      "\u001b[0;32m<ipython-input-12-ee78bb140d17>\u001b[0m in \u001b[0;36m<module>\u001b[0;34m()\u001b[0m\n\u001b[0;32m----> 1\u001b[0;31m \u001b[0mbook_del\u001b[0m\u001b[0;34m(\u001b[0m\u001b[0;34m)\u001b[0m\u001b[0;34m\u001b[0m\u001b[0m\n\u001b[0m",
      "\u001b[0;32m<ipython-input-11-dc2567870c1d>\u001b[0m in \u001b[0;36mbook_del\u001b[0;34m()\u001b[0m\n\u001b[1;32m     54\u001b[0m     \u001b[0mprint\u001b[0m\u001b[0;34m(\u001b[0m\u001b[0;34m\"silinecek kitabın adını yaz:\"\u001b[0m\u001b[0;34m)\u001b[0m\u001b[0;34m\u001b[0m\u001b[0m\n\u001b[1;32m     55\u001b[0m     \u001b[0mname\u001b[0m\u001b[0;34m=\u001b[0m\u001b[0minput\u001b[0m\u001b[0;34m(\u001b[0m\u001b[0;34m)\u001b[0m\u001b[0;34m\u001b[0m\u001b[0m\n\u001b[0;32m---> 56\u001b[0;31m     \u001b[0mveritabani_sec\u001b[0m\u001b[0;34m.\u001b[0m\u001b[0mexecute\u001b[0m\u001b[0;34m(\u001b[0m\u001b[0;34m'DELETE  FROM book WHERE name=?;'\u001b[0m\u001b[0;34m,\u001b[0m \u001b[0;34m(\u001b[0m\u001b[0mbookname\u001b[0m\u001b[0;34m,\u001b[0m\u001b[0;34m)\u001b[0m\u001b[0;34m)\u001b[0m\u001b[0;34m\u001b[0m\u001b[0m\n\u001b[0m\u001b[1;32m     57\u001b[0m     \u001b[0moku\u001b[0m \u001b[0;34m=\u001b[0m \u001b[0mveritabani_sec\u001b[0m\u001b[0;34m.\u001b[0m\u001b[0mexecute\u001b[0m\u001b[0;34m(\u001b[0m\u001b[0;34m'Select adi,soyadi,ogrenci_no from ogrenciler'\u001b[0m\u001b[0;34m)\u001b[0m\u001b[0;34m\u001b[0m\u001b[0m\n\u001b[1;32m     58\u001b[0m \u001b[0;32mfor\u001b[0m \u001b[0mverileri_cek\u001b[0m \u001b[0;32min\u001b[0m \u001b[0moku\u001b[0m\u001b[0;34m.\u001b[0m\u001b[0mfetchall\u001b[0m\u001b[0;34m(\u001b[0m\u001b[0;34m)\u001b[0m\u001b[0;34m:\u001b[0m\u001b[0;34m\u001b[0m\u001b[0m\n",
      "\u001b[0;31mNameError\u001b[0m: name 'bookname' is not defined"
     ]
    }
   ],
   "source": [
    "book_del()"
   ]
  },
  {
   "cell_type": "code",
   "execution_count": 14,
   "metadata": {},
   "outputs": [
    {
     "name": "stdout",
     "output_type": "stream",
     "text": [
      "kitap listesini gör\n",
      "Hoşgeldiniz,Kitap adı giriniz:\n",
      "A\n",
      "[('A', 'A', 1234, 'ABC', 13, None)]\n",
      "güncelle\n",
      "A\n",
      "AA\n"
     ]
    },
    {
     "ename": "OperationalError",
     "evalue": "near \"*\": syntax error",
     "output_type": "error",
     "traceback": [
      "\u001b[0;31m---------------------------------------------------------------------------\u001b[0m",
      "\u001b[0;31mOperationalError\u001b[0m                          Traceback (most recent call last)",
      "\u001b[0;32m<ipython-input-14-2b73fc8cdc93>\u001b[0m in \u001b[0;36m<module>\u001b[0;34m()\u001b[0m\n\u001b[0;32m----> 1\u001b[0;31m \u001b[0mbook_up\u001b[0m\u001b[0;34m(\u001b[0m\u001b[0;34m)\u001b[0m\u001b[0;34m\u001b[0m\u001b[0m\n\u001b[0m",
      "\u001b[0;32m<ipython-input-5-67dbc4ef9583>\u001b[0m in \u001b[0;36mbook_up\u001b[0;34m()\u001b[0m\n\u001b[1;32m     61\u001b[0m     \u001b[0mbookname\u001b[0m \u001b[0;34m=\u001b[0m\u001b[0minput\u001b[0m\u001b[0;34m(\u001b[0m\u001b[0;34m)\u001b[0m\u001b[0;34m\u001b[0m\u001b[0m\n\u001b[1;32m     62\u001b[0m     \u001b[0mw_name\u001b[0m \u001b[0;34m=\u001b[0m\u001b[0minput\u001b[0m\u001b[0;34m(\u001b[0m\u001b[0;34m)\u001b[0m\u001b[0;34m\u001b[0m\u001b[0m\n\u001b[0;32m---> 63\u001b[0;31m     \u001b[0mcursor\u001b[0m \u001b[0;34m=\u001b[0m \u001b[0mveritabani_sec\u001b[0m\u001b[0;34m.\u001b[0m\u001b[0mexecute\u001b[0m\u001b[0;34m(\u001b[0m\u001b[0;34m'''UPDATE * FROM book (name,w_name,b_id) VALUES (?,?,null)'''\u001b[0m\u001b[0;34m,\u001b[0m \u001b[0;34m(\u001b[0m\u001b[0mbookname\u001b[0m\u001b[0;34m,\u001b[0m\u001b[0mw_name\u001b[0m\u001b[0;34m,\u001b[0m\u001b[0;34m)\u001b[0m\u001b[0;34m)\u001b[0m\u001b[0;34m\u001b[0m\u001b[0m\n\u001b[0m\u001b[1;32m     64\u001b[0m     \u001b[0mprint\u001b[0m\u001b[0;34m(\u001b[0m\u001b[0;34m\"değişiklikleri gör\"\u001b[0m\u001b[0;34m)\u001b[0m\u001b[0;34m\u001b[0m\u001b[0m\n\u001b[1;32m     65\u001b[0m     \u001b[0moku\u001b[0m \u001b[0;34m=\u001b[0m \u001b[0mveritabani_sec\u001b[0m\u001b[0;34m.\u001b[0m\u001b[0mexecute\u001b[0m\u001b[0;34m(\u001b[0m\u001b[0;34m\"SELECT * FROM book WHERE  name=? ;\"\u001b[0m\u001b[0;34m)\u001b[0m\u001b[0;34m\u001b[0m\u001b[0m\n",
      "\u001b[0;31mOperationalError\u001b[0m: near \"*\": syntax error"
     ]
    }
   ],
   "source": [
    "book_up()"
   ]
  },
  {
   "cell_type": "code",
   "execution_count": null,
   "metadata": {
    "collapsed": true
   },
   "outputs": [],
   "source": [
    "book_add()"
   ]
  },
  {
   "cell_type": "code",
   "execution_count": null,
   "metadata": {
    "collapsed": true
   },
   "outputs": [],
   "source": [
    "check()"
   ]
  },
  {
   "cell_type": "code",
   "execution_count": null,
   "metadata": {
    "collapsed": true
   },
   "outputs": [],
   "source": []
  },
  {
   "cell_type": "code",
   "execution_count": null,
   "metadata": {
    "collapsed": true
   },
   "outputs": [],
   "source": [
    "book()"
   ]
  },
  {
   "cell_type": "code",
   "execution_count": null,
   "metadata": {
    "collapsed": true
   },
   "outputs": [],
   "source": [
    "book()"
   ]
  },
  {
   "cell_type": "code",
   "execution_count": 40,
   "metadata": {
    "collapsed": true
   },
   "outputs": [],
   "source": []
  },
  {
   "cell_type": "code",
   "execution_count": null,
   "metadata": {
    "collapsed": true
   },
   "outputs": [],
   "source": [
    "book_add()"
   ]
  },
  {
   "cell_type": "code",
   "execution_count": 39,
   "metadata": {},
   "outputs": [
    {
     "name": "stdout",
     "output_type": "stream",
     "text": [
      "kitap ekle\n",
      "ege\n",
      "abc\n",
      "5\n",
      "[]\n"
     ]
    }
   ],
   "source": [
    "book_add()"
   ]
  },
  {
   "cell_type": "code",
   "execution_count": 37,
   "metadata": {},
   "outputs": [
    {
     "name": "stdout",
     "output_type": "stream",
     "text": [
      "kitap ekle\n",
      "\n",
      "\n",
      "3\n",
      "[]\n"
     ]
    }
   ],
   "source": [
    "book_add()"
   ]
  },
  {
   "cell_type": "code",
   "execution_count": 34,
   "metadata": {},
   "outputs": [
    {
     "name": "stdout",
     "output_type": "stream",
     "text": [
      "kitap ekle\n",
      "abc\n",
      "abc\n",
      "2\n",
      "[]\n"
     ]
    }
   ],
   "source": [
    "book_add()"
   ]
  },
  {
   "cell_type": "code",
   "execution_count": 11,
   "metadata": {},
   "outputs": [
    {
     "ename": "NameError",
     "evalue": "name 'book_add' is not defined",
     "output_type": "error",
     "traceback": [
      "\u001b[0;31m---------------------------------------------------------------------------\u001b[0m",
      "\u001b[0;31mNameError\u001b[0m                                 Traceback (most recent call last)",
      "\u001b[0;32m<ipython-input-11-6c500775326b>\u001b[0m in \u001b[0;36m<module>\u001b[0;34m()\u001b[0m\n\u001b[0;32m----> 1\u001b[0;31m \u001b[0mbook_add\u001b[0m\u001b[0;34m(\u001b[0m\u001b[0;34m)\u001b[0m\u001b[0;34m\u001b[0m\u001b[0m\n\u001b[0m",
      "\u001b[0;31mNameError\u001b[0m: name 'book_add' is not defined"
     ]
    }
   ],
   "source": [
    "book_add()"
   ]
  },
  {
   "cell_type": "code",
   "execution_count": 29,
   "metadata": {},
   "outputs": [
    {
     "name": "stdout",
     "output_type": "stream",
     "text": [
      "welcome\n",
      "anna karenina\n",
      "[(u'anna karenina', u'tolstoy', 1996, u'abc', 1, 1)]\n"
     ]
    }
   ],
   "source": [
    "book()"
   ]
  },
  {
   "cell_type": "code",
   "execution_count": 30,
   "metadata": {},
   "outputs": [
    {
     "name": "stdout",
     "output_type": "stream",
     "text": [
      "kitap ekle\n",
      "vedasızlık\n"
     ]
    },
    {
     "ename": "NameError",
     "evalue": "global name 'w_name' is not defined",
     "output_type": "error",
     "traceback": [
      "\u001b[0;31m---------------------------------------------------------------------------\u001b[0m",
      "\u001b[0;31mNameError\u001b[0m                                 Traceback (most recent call last)",
      "\u001b[0;32m<ipython-input-30-6c500775326b>\u001b[0m in \u001b[0;36m<module>\u001b[0;34m()\u001b[0m\n\u001b[0;32m----> 1\u001b[0;31m \u001b[0mbook_add\u001b[0m\u001b[0;34m(\u001b[0m\u001b[0;34m)\u001b[0m\u001b[0;34m\u001b[0m\u001b[0m\n\u001b[0m",
      "\u001b[0;32m<ipython-input-28-0352df3a7e9e>\u001b[0m in \u001b[0;36mbook_add\u001b[0;34m()\u001b[0m\n\u001b[1;32m      2\u001b[0m     \u001b[0;32mprint\u001b[0m\u001b[0;34m(\u001b[0m\u001b[0;34m'kitap ekle'\u001b[0m\u001b[0;34m)\u001b[0m\u001b[0;34m\u001b[0m\u001b[0m\n\u001b[1;32m      3\u001b[0m     \u001b[0mbookname\u001b[0m \u001b[0;34m=\u001b[0m\u001b[0mraw_input\u001b[0m\u001b[0;34m(\u001b[0m\u001b[0;34m)\u001b[0m\u001b[0;34m\u001b[0m\u001b[0m\n\u001b[0;32m----> 4\u001b[0;31m     \u001b[0mcursor\u001b[0m \u001b[0;34m=\u001b[0m \u001b[0mveritabani_sec\u001b[0m\u001b[0;34m.\u001b[0m\u001b[0mexecute\u001b[0m\u001b[0;34m(\u001b[0m\u001b[0;34m'''INSERT INTO book (name,w_name,b_id) VALUES (?,'?','?')'''\u001b[0m\u001b[0;34m,\u001b[0m \u001b[0;34m(\u001b[0m\u001b[0mbookname\u001b[0m\u001b[0;34m,\u001b[0m\u001b[0mw_name\u001b[0m\u001b[0;34m,\u001b[0m\u001b[0mb_id\u001b[0m\u001b[0;34m)\u001b[0m\u001b[0;34m)\u001b[0m\u001b[0;34m\u001b[0m\u001b[0m\n\u001b[0m\u001b[1;32m      5\u001b[0m     \u001b[0;32mprint\u001b[0m\u001b[0;34m(\u001b[0m\u001b[0mcursor\u001b[0m\u001b[0;34m.\u001b[0m\u001b[0mfetchall\u001b[0m\u001b[0;34m(\u001b[0m\u001b[0;34m)\u001b[0m\u001b[0;34m)\u001b[0m\u001b[0;34m\u001b[0m\u001b[0m\n",
      "\u001b[0;31mNameError\u001b[0m: global name 'w_name' is not defined"
     ]
    }
   ],
   "source": [
    "book_add()"
   ]
  },
  {
   "cell_type": "code",
   "execution_count": null,
   "metadata": {
    "collapsed": true
   },
   "outputs": [],
   "source": []
  },
  {
   "cell_type": "code",
   "execution_count": 15,
   "metadata": {},
   "outputs": [
    {
     "ename": "NameError",
     "evalue": "name 'book_up' is not defined",
     "output_type": "error",
     "traceback": [
      "\u001b[0;31m---------------------------------------------------------------------------\u001b[0m",
      "\u001b[0;31mNameError\u001b[0m                                 Traceback (most recent call last)",
      "\u001b[0;32m<ipython-input-15-2b73fc8cdc93>\u001b[0m in \u001b[0;36m<module>\u001b[0;34m()\u001b[0m\n\u001b[0;32m----> 1\u001b[0;31m \u001b[0mbook_up\u001b[0m\u001b[0;34m(\u001b[0m\u001b[0;34m)\u001b[0m\u001b[0;34m\u001b[0m\u001b[0m\n\u001b[0m",
      "\u001b[0;31mNameError\u001b[0m: name 'book_up' is not defined"
     ]
    }
   ],
   "source": [
    "book_up()"
   ]
  },
  {
   "cell_type": "code",
   "execution_count": null,
   "metadata": {
    "collapsed": true
   },
   "outputs": [],
   "source": []
  },
  {
   "cell_type": "code",
   "execution_count": null,
   "metadata": {
    "collapsed": true
   },
   "outputs": [],
   "source": []
  },
  {
   "cell_type": "code",
   "execution_count": null,
   "metadata": {
    "collapsed": true
   },
   "outputs": [],
   "source": []
  },
  {
   "cell_type": "code",
   "execution_count": null,
   "metadata": {
    "collapsed": true
   },
   "outputs": [],
   "source": []
  },
  {
   "cell_type": "code",
   "execution_count": null,
   "metadata": {
    "collapsed": true
   },
   "outputs": [],
   "source": []
  },
  {
   "cell_type": "code",
   "execution_count": null,
   "metadata": {
    "collapsed": true
   },
   "outputs": [],
   "source": []
  }
 ],
 "metadata": {
  "kernelspec": {
   "display_name": "Python 3",
   "language": "python",
   "name": "python3"
  },
  "language_info": {
   "codemirror_mode": {
    "name": "ipython",
    "version": 3
   },
   "file_extension": ".py",
   "mimetype": "text/x-python",
   "name": "python",
   "nbconvert_exporter": "python",
   "pygments_lexer": "ipython3",
   "version": "3.5.2"
  }
 },
 "nbformat": 4,
 "nbformat_minor": 2
}
